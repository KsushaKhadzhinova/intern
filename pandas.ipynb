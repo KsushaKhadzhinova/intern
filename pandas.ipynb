{
 "cells": [
  {
   "cell_type": "code",
   "execution_count": 6,
   "id": "b3e88e68-806e-4afa-b72b-cf8aa1a44a36",
   "metadata": {},
   "outputs": [],
   "source": [
    "import pandas as pd"
   ]
  },
  {
   "cell_type": "code",
   "execution_count": 7,
   "id": "eafa0e22-abc2-4232-a68c-d1bde0e9f340",
   "metadata": {},
   "outputs": [
    {
     "data": {
      "text/html": [
       "<div>\n",
       "<style scoped>\n",
       "    .dataframe tbody tr th:only-of-type {\n",
       "        vertical-align: middle;\n",
       "    }\n",
       "\n",
       "    .dataframe tbody tr th {\n",
       "        vertical-align: top;\n",
       "    }\n",
       "\n",
       "    .dataframe thead th {\n",
       "        text-align: right;\n",
       "    }\n",
       "</style>\n",
       "<table border=\"1\" class=\"dataframe\">\n",
       "  <thead>\n",
       "    <tr style=\"text-align: right;\">\n",
       "      <th></th>\n",
       "      <th>age</th>\n",
       "      <th>workclass</th>\n",
       "      <th>fnlwgt</th>\n",
       "      <th>education</th>\n",
       "      <th>education-num</th>\n",
       "      <th>marital-status</th>\n",
       "      <th>occupation</th>\n",
       "      <th>relationship</th>\n",
       "      <th>race</th>\n",
       "      <th>sex</th>\n",
       "      <th>capital-gain</th>\n",
       "      <th>capital-loss</th>\n",
       "      <th>hours-per-week</th>\n",
       "      <th>native-country</th>\n",
       "      <th>salary</th>\n",
       "    </tr>\n",
       "  </thead>\n",
       "  <tbody>\n",
       "    <tr>\n",
       "      <th>0</th>\n",
       "      <td>39</td>\n",
       "      <td>State-gov</td>\n",
       "      <td>77516</td>\n",
       "      <td>Bachelors</td>\n",
       "      <td>13</td>\n",
       "      <td>Never-married</td>\n",
       "      <td>Adm-clerical</td>\n",
       "      <td>Not-in-family</td>\n",
       "      <td>White</td>\n",
       "      <td>Male</td>\n",
       "      <td>2174</td>\n",
       "      <td>0</td>\n",
       "      <td>40</td>\n",
       "      <td>United-States</td>\n",
       "      <td>&lt;=50K</td>\n",
       "    </tr>\n",
       "    <tr>\n",
       "      <th>1</th>\n",
       "      <td>50</td>\n",
       "      <td>Self-emp-not-inc</td>\n",
       "      <td>83311</td>\n",
       "      <td>Bachelors</td>\n",
       "      <td>13</td>\n",
       "      <td>Married-civ-spouse</td>\n",
       "      <td>Exec-managerial</td>\n",
       "      <td>Husband</td>\n",
       "      <td>White</td>\n",
       "      <td>Male</td>\n",
       "      <td>0</td>\n",
       "      <td>0</td>\n",
       "      <td>13</td>\n",
       "      <td>United-States</td>\n",
       "      <td>&lt;=50K</td>\n",
       "    </tr>\n",
       "    <tr>\n",
       "      <th>2</th>\n",
       "      <td>38</td>\n",
       "      <td>Private</td>\n",
       "      <td>215646</td>\n",
       "      <td>HS-grad</td>\n",
       "      <td>9</td>\n",
       "      <td>Divorced</td>\n",
       "      <td>Handlers-cleaners</td>\n",
       "      <td>Not-in-family</td>\n",
       "      <td>White</td>\n",
       "      <td>Male</td>\n",
       "      <td>0</td>\n",
       "      <td>0</td>\n",
       "      <td>40</td>\n",
       "      <td>United-States</td>\n",
       "      <td>&lt;=50K</td>\n",
       "    </tr>\n",
       "    <tr>\n",
       "      <th>3</th>\n",
       "      <td>53</td>\n",
       "      <td>Private</td>\n",
       "      <td>234721</td>\n",
       "      <td>11th</td>\n",
       "      <td>7</td>\n",
       "      <td>Married-civ-spouse</td>\n",
       "      <td>Handlers-cleaners</td>\n",
       "      <td>Husband</td>\n",
       "      <td>Black</td>\n",
       "      <td>Male</td>\n",
       "      <td>0</td>\n",
       "      <td>0</td>\n",
       "      <td>40</td>\n",
       "      <td>United-States</td>\n",
       "      <td>&lt;=50K</td>\n",
       "    </tr>\n",
       "    <tr>\n",
       "      <th>4</th>\n",
       "      <td>28</td>\n",
       "      <td>Private</td>\n",
       "      <td>338409</td>\n",
       "      <td>Bachelors</td>\n",
       "      <td>13</td>\n",
       "      <td>Married-civ-spouse</td>\n",
       "      <td>Prof-specialty</td>\n",
       "      <td>Wife</td>\n",
       "      <td>Black</td>\n",
       "      <td>Female</td>\n",
       "      <td>0</td>\n",
       "      <td>0</td>\n",
       "      <td>40</td>\n",
       "      <td>Cuba</td>\n",
       "      <td>&lt;=50K</td>\n",
       "    </tr>\n",
       "  </tbody>\n",
       "</table>\n",
       "</div>"
      ],
      "text/plain": [
       "   age         workclass  fnlwgt  education  education-num  \\\n",
       "0   39         State-gov   77516  Bachelors             13   \n",
       "1   50  Self-emp-not-inc   83311  Bachelors             13   \n",
       "2   38           Private  215646    HS-grad              9   \n",
       "3   53           Private  234721       11th              7   \n",
       "4   28           Private  338409  Bachelors             13   \n",
       "\n",
       "       marital-status         occupation   relationship   race     sex  \\\n",
       "0       Never-married       Adm-clerical  Not-in-family  White    Male   \n",
       "1  Married-civ-spouse    Exec-managerial        Husband  White    Male   \n",
       "2            Divorced  Handlers-cleaners  Not-in-family  White    Male   \n",
       "3  Married-civ-spouse  Handlers-cleaners        Husband  Black    Male   \n",
       "4  Married-civ-spouse     Prof-specialty           Wife  Black  Female   \n",
       "\n",
       "   capital-gain  capital-loss  hours-per-week native-country salary  \n",
       "0          2174             0              40  United-States  <=50K  \n",
       "1             0             0              13  United-States  <=50K  \n",
       "2             0             0              40  United-States  <=50K  \n",
       "3             0             0              40  United-States  <=50K  \n",
       "4             0             0              40           Cuba  <=50K  "
      ]
     },
     "execution_count": 7,
     "metadata": {},
     "output_type": "execute_result"
    }
   ],
   "source": [
    "data = pd.read_csv(\"E:/intern/pandas_numpy/data/adult.data.csv\")\n",
    "data.head()"
   ]
  },
  {
   "cell_type": "markdown",
   "id": "99089f01-020a-4659-9d3f-a4124a6cfb7f",
   "metadata": {},
   "source": [
    "\n",
    "1. Посчитайте, сколько мужчин и женщин (признак sex) представлено в этом датасете"
   ]
  },
  {
   "cell_type": "code",
   "execution_count": 8,
   "id": "fb101aef-2033-4a17-950c-c16b999477ab",
   "metadata": {},
   "outputs": [
    {
     "name": "stdout",
     "output_type": "stream",
     "text": [
      "sex\n",
      "Male      21790\n",
      "Female    10771\n",
      "Name: count, dtype: int64\n"
     ]
    }
   ],
   "source": [
    "sex_counts = data['sex'].value_counts()\n",
    "print(sex_counts)"
   ]
  },
  {
   "cell_type": "markdown",
   "id": "60f453c3-adf2-4765-8c15-dfaa12746ec3",
   "metadata": {},
   "source": [
    "2. Каков средний возраст мужчин (признак age) по всему датасету?"
   ]
  },
  {
   "cell_type": "code",
   "execution_count": 9,
   "id": "394d805f-c3ae-4e6c-8aed-4725e08b595e",
   "metadata": {},
   "outputs": [
    {
     "name": "stdout",
     "output_type": "stream",
     "text": [
      "39.43354749885268\n"
     ]
    }
   ],
   "source": [
    "average_male_age = data[data['sex'] == 'Male']['age'].mean()\n",
    "print(average_male_age)"
   ]
  },
  {
   "cell_type": "markdown",
   "id": "4779c3c8-2d4b-4807-9591-6c356b22f78a",
   "metadata": {},
   "source": [
    "\n",
    "3. Какова доля граждан Соединенных Штатов (признак native-country)?"
   ]
  },
  {
   "cell_type": "code",
   "execution_count": 10,
   "id": "080364f4-1e72-4e97-a9fb-479412c8d528",
   "metadata": {},
   "outputs": [
    {
     "name": "stdout",
     "output_type": "stream",
     "text": [
      "0.895857006848684\n"
     ]
    }
   ],
   "source": [
    "us_ratio = data['native-country'].value_counts(normalize=True).loc['United-States']\n",
    "print(us_ratio)"
   ]
  },
  {
   "cell_type": "markdown",
   "id": "f0ae0c42-c8a1-4b5b-b3e6-4b2a1da5fe3f",
   "metadata": {},
   "source": [
    "\n",
    "4-5. Рассчитайте среднее значение и среднеквадратичное отклонение возраста тех, кто получает более 50K в год (признак salary) и тех, кто получает менее 50K в год"
   ]
  },
  {
   "cell_type": "code",
   "execution_count": 11,
   "id": "dba3ceb2-72c0-4acb-985a-412f957a4d23",
   "metadata": {},
   "outputs": [
    {
     "name": "stdout",
     "output_type": "stream",
     "text": [
      "             mean        std\n",
      "salary                      \n",
      "<=50K   36.783738  14.020088\n",
      ">50K    44.249841  10.519028\n"
     ]
    }
   ],
   "source": [
    "stats_by_salary = data.groupby('salary')['age'].agg(['mean', 'std'])\n",
    "print(stats_by_salary)"
   ]
  },
  {
   "cell_type": "markdown",
   "id": "37cf6338-146f-4de2-9a84-0bdc361d76e2",
   "metadata": {},
   "source": [
    "\n",
    "6. Правда ли, что люди, которые получают больше 50k, имеют минимум высшее образование? (признак education – Bachelors, Prof-school, Assoc-acdm, Assoc-voc, Masters или Doctorate)"
   ]
  },
  {
   "cell_type": "code",
   "execution_count": 12,
   "id": "bd639d3b-8b13-44cd-ae6a-7fa15a68aadf",
   "metadata": {},
   "outputs": [
    {
     "name": "stdout",
     "output_type": "stream",
     "text": [
      "Правда ли, что люди, которые получают больше 50k, имеют минимум высшее образование?  False\n"
     ]
    }
   ],
   "source": [
    "higher_education_levels = {'Bachelors', 'Prof-school', 'Assoc-acdm', 'Assoc-voc', 'Masters', 'Doctorate'}\n",
    "high_income = data[data['salary'] == '>50K']\n",
    "non_higher_edu = high_income[~high_income['education'].isin(higher_education_levels)]\n",
    "all_high_income_have_higher_edu = non_higher_edu.empty\n",
    "\n",
    "print(\"Правда ли, что люди, которые получают больше 50k, имеют минимум высшее образование? \", all_high_income_have_higher_edu)"
   ]
  },
  {
   "cell_type": "markdown",
   "id": "1dadba71-d3b9-4351-a383-a7fc89733a26",
   "metadata": {},
   "source": [
    "\n",
    "7. Выведите статистику возраста для каждой расы (признак race) и каждого пола. Используйте groupby и describe. Найдите таким образом максимальный возраст мужчин расы Asian-Pac-Islander."
   ]
  },
  {
   "cell_type": "code",
   "execution_count": 13,
   "id": "7daa120d-df65-47bd-ba00-01aa564981f2",
   "metadata": {},
   "outputs": [
    {
     "name": "stdout",
     "output_type": "stream",
     "text": [
      "                             count       mean        std   min   25%   50%  \\\n",
      "race               sex                                                       \n",
      "Amer-Indian-Eskimo Female    119.0  37.117647  13.114991  17.0  27.0  36.0   \n",
      "                   Male      192.0  37.208333  12.049563  17.0  28.0  35.0   \n",
      "Asian-Pac-Islander Female    346.0  35.089595  12.300845  17.0  25.0  33.0   \n",
      "                   Male      693.0  39.073593  12.883944  18.0  29.0  37.0   \n",
      "Black              Female   1555.0  37.854019  12.637197  17.0  28.0  37.0   \n",
      "                   Male     1569.0  37.682600  12.882612  17.0  27.0  36.0   \n",
      "Other              Female    109.0  31.678899  11.631599  17.0  23.0  29.0   \n",
      "                   Male      162.0  34.654321  11.355531  17.0  26.0  32.0   \n",
      "White              Female   8642.0  36.811618  14.329093  17.0  25.0  35.0   \n",
      "                   Male    19174.0  39.652498  13.436029  17.0  29.0  38.0   \n",
      "\n",
      "                             75%   max  \n",
      "race               sex                  \n",
      "Amer-Indian-Eskimo Female  46.00  80.0  \n",
      "                   Male    45.00  82.0  \n",
      "Asian-Pac-Islander Female  43.75  75.0  \n",
      "                   Male    46.00  90.0  \n",
      "Black              Female  46.00  90.0  \n",
      "                   Male    46.00  90.0  \n",
      "Other              Female  39.00  74.0  \n",
      "                   Male    42.00  77.0  \n",
      "White              Female  46.00  90.0  \n",
      "                   Male    49.00  90.0  \n",
      "\n",
      "Максимальный возраст мужчин расы Asian-Pac-Islander: 90\n"
     ]
    }
   ],
   "source": [
    "age_stats = data.groupby(['race', 'sex'])['age'].describe()\n",
    "print(age_stats)\n",
    "\n",
    "max_age_asian_male = data[(data['race'] == 'Asian-Pac-Islander') & (data['sex'] == 'Male')]['age'].max()\n",
    "print(\"\\nМаксимальный возраст мужчин расы Asian-Pac-Islander:\", max_age_asian_male)"
   ]
  },
  {
   "cell_type": "markdown",
   "id": "29c661d2-2a02-46f2-ac86-8b85dfd7f883",
   "metadata": {},
   "source": [
    "8. Среди кого больше доля зарабатывающих много (>50K): среди женатых или холостых мужчин (признак marital-status)? Женатыми считаем тех, у кого marital-status начинается с Married (Married-civ-spouse, Married-spouse-absent или Married-AF-spouse), остальных считаем холостыми."
   ]
  },
  {
   "cell_type": "code",
   "execution_count": 14,
   "id": "f88670a7-a758-4c6d-a1c9-7c700a6fbf26",
   "metadata": {},
   "outputs": [
    {
     "name": "stdout",
     "output_type": "stream",
     "text": [
      "married\n",
      "False    0.084495\n",
      "True     0.440514\n",
      "Name: salary, dtype: float64\n"
     ]
    }
   ],
   "source": [
    "data['married'] = data['marital-status'].str.startswith('Married')\n",
    "men = data[data['sex'] == 'Male']\n",
    "income_ratio_by_marital = men.groupby('married')['salary'].apply(lambda x: (x == '>50K').mean())\n",
    "\n",
    "print(income_ratio_by_marital)"
   ]
  },
  {
   "cell_type": "markdown",
   "id": "7a8c5638-1325-411f-b072-d105e389a1de",
   "metadata": {},
   "source": [
    "\n",
    "9. Какое максимальное число часов человек работает в неделю (признак hours-per-week)? Сколько людей работают такое количество часов и каков среди них процент зарабатывающих много?"
   ]
  },
  {
   "cell_type": "code",
   "execution_count": 15,
   "id": "91426337-654c-4185-9e40-7c0223d04e79",
   "metadata": {},
   "outputs": [
    {
     "name": "stdout",
     "output_type": "stream",
     "text": [
      "Максимальное количество часов в неделю: 99\n",
      "Количество людей, работающих такое количество часов: 85\n",
      "Доля зарабатывающих >50K среди них: 0.29411764705882354\n"
     ]
    }
   ],
   "source": [
    "max_hours = data['hours-per-week'].max()\n",
    "num_max_hours_people = data[data['hours-per-week'] == max_hours].shape[0]\n",
    "high_income_ratio = data[(data['hours-per-week'] == max_hours) & (data['salary'] == '>50K')].shape[0] / num_max_hours_people\n",
    "\n",
    "print(\"Максимальное количество часов в неделю:\", max_hours)\n",
    "print(\"Количество людей, работающих такое количество часов:\", num_max_hours_people)\n",
    "print(\"Доля зарабатывающих >50K среди них:\", high_income_ratio)"
   ]
  },
  {
   "cell_type": "markdown",
   "id": "d0d770cf-e3bb-4ccb-ba43-98cf0f1896c1",
   "metadata": {},
   "source": [
    "\n",
    "10. Посчитайте среднее время работы (hours-per-week) зарабатывающих мало и много (salary) для каждой страны (native-country)."
   ]
  },
  {
   "cell_type": "code",
   "execution_count": 16,
   "id": "d8d7ab35-a079-4d46-9c6b-0a7c3965cb46",
   "metadata": {},
   "outputs": [
    {
     "name": "stdout",
     "output_type": "stream",
     "text": [
      "native-country  salary\n",
      "?               <=50K     40.164760\n",
      "                >50K      45.547945\n",
      "Cambodia        <=50K     41.416667\n",
      "                >50K      40.000000\n",
      "Canada          <=50K     37.914634\n",
      "                            ...    \n",
      "United-States   >50K      45.505369\n",
      "Vietnam         <=50K     37.193548\n",
      "                >50K      39.200000\n",
      "Yugoslavia      <=50K     41.600000\n",
      "                >50K      49.500000\n",
      "Name: hours-per-week, Length: 82, dtype: float64\n"
     ]
    }
   ],
   "source": [
    "mean_hours_by_country_salary = data.groupby(['native-country', 'salary'])['hours-per-week'].mean()\n",
    "\n",
    "print(mean_hours_by_country_salary)"
   ]
  },
  {
   "cell_type": "markdown",
   "id": "c1fee7d2-8f6d-444b-948d-43280f629245",
   "metadata": {},
   "source": [
    "\n",
    "11.Сгруппируйте людей по возрастным группам young, adult, retiree, где:\n",
    "\n",
    "young соответствует 16-35 лет\n",
    "adult - 35-70 лет\n",
    "retiree - 70-100 лет\n",
    "Проставьте название соответсвтуещей группы для каждого человека в новой колонке AgeGroup"
   ]
  },
  {
   "cell_type": "code",
   "execution_count": 17,
   "id": "bf916d27-3071-4062-8936-a6a2b9ab41e0",
   "metadata": {},
   "outputs": [
    {
     "name": "stdout",
     "output_type": "stream",
     "text": [
      "   age AgeGroup\n",
      "0   39    adult\n",
      "1   50    adult\n",
      "2   38    adult\n",
      "3   53    adult\n",
      "4   28    young\n"
     ]
    }
   ],
   "source": [
    "def age_group(age):\n",
    "    if 16 <= age < 35:\n",
    "        return 'young'\n",
    "    elif 35 <= age < 70:\n",
    "        return 'adult'\n",
    "    elif 70 <= age <= 100:\n",
    "        return 'retiree'\n",
    "    else:\n",
    "        return 'undefined'\n",
    "\n",
    "data['AgeGroup'] = data['age'].apply(age_group)\n",
    "\n",
    "print(data[['age', 'AgeGroup']].head())"
   ]
  },
  {
   "cell_type": "markdown",
   "id": "d4d4e355-84ae-437e-8d8b-86c92fe4bfd9",
   "metadata": {},
   "source": [
    "\n",
    "12-13. Определите количество зарабатывающих >50K в каждой из возрастных групп (колонка AgeGroup), а также выведите название возрастной группы, в которой чаще зарабатывают больше 50К (>50K)"
   ]
  },
  {
   "cell_type": "code",
   "execution_count": 19,
   "id": "91eb463d-00f8-4354-ba52-293eacf69af9",
   "metadata": {},
   "outputs": [
    {
     "name": "stdout",
     "output_type": "stream",
     "text": [
      "Percentage of people earning >50K in each age group:\n",
      "AgeGroup\n",
      "adult      34.89\n",
      "retiree    17.97\n",
      "young      10.59\n",
      "dtype: float64\n",
      "\n",
      "Age group with highest share of >50K earners: adult (34.89%)\n"
     ]
    }
   ],
   "source": [
    "total_count_by_agegroup = data.groupby('AgeGroup').size()\n",
    "high_income_count_by_agegroup = data[data['salary'] == '>50K'].groupby('AgeGroup').size()\n",
    "high_income_share_by_agegroup = (high_income_count_by_agegroup / total_count_by_agegroup).fillna(0)\n",
    "high_income_percentage = (high_income_share_by_agegroup * 100).round(2)\n",
    "\n",
    "print(\"Percentage of people earning >50K in each age group:\")\n",
    "print(high_income_percentage)\n",
    "\n",
    "most_frequent_high_income_group = high_income_percentage.idxmax()\n",
    "print(f\"\\nAge group with highest share of >50K earners: {most_frequent_high_income_group} ({high_income_percentage.max()}%)\")"
   ]
  },
  {
   "cell_type": "markdown",
   "id": "4eddf22e-a5fa-4a7c-aa5e-7881f49acf69",
   "metadata": {},
   "source": [
    "\n",
    "14. Сгруппируйте людей по типу занятости (колонка occupation) и определите количество людей в каждой группе. После чего напишите функциюю фильтрации filter_func, которая будет возвращать только те группы, в которых средний возраст (колонка age) не больше 40 и в которых все работники отрабатывают более 5 часов в неделю (колонка hours-per-week)"
   ]
  },
  {
   "cell_type": "code",
   "execution_count": 28,
   "id": "10452eda-0dc5-4c21-a9b7-ccee071b3827",
   "metadata": {},
   "outputs": [
    {
     "name": "stdout",
     "output_type": "stream",
     "text": [
      "Количество людей в каждой группе по типу занятости:\n",
      "occupation\n",
      "?                    1843\n",
      "Adm-clerical         3770\n",
      "Armed-Forces            9\n",
      "Craft-repair         4099\n",
      "Exec-managerial      4066\n",
      "Farming-fishing       994\n",
      "Handlers-cleaners    1370\n",
      "Machine-op-inspct    2002\n",
      "Other-service        3295\n",
      "Priv-house-serv       149\n",
      "Prof-specialty       4140\n",
      "Protective-serv       649\n",
      "Sales                3650\n",
      "Tech-support          928\n",
      "Transport-moving     1597\n",
      "dtype: int64\n",
      "\n",
      "Группы, удовлетворяющие фильтру (средний возраст <= 40 и все работают >5 часов в неделю):\n",
      "['Armed-Forces']\n"
     ]
    }
   ],
   "source": [
    "occupation_counts = data.groupby('occupation').size()\n",
    "\n",
    "print(\"Количество людей в каждой группе по типу занятости:\")\n",
    "print(occupation_counts)\n",
    "\n",
    "def filter_func(group):\n",
    "    return group['age'].mean() <= 40 and (group['hours-per-week'] > 5).all()\n",
    "\n",
    "filtered_groups_df = data.groupby('occupation').filter(filter_func)\n",
    "filtered_occupations = filtered_groups_df['occupation'].unique()\n",
    "\n",
    "print(\"\\nГруппы, удовлетворяющие фильтру (средний возраст <= 40 и все работают >5 часов в неделю):\")\n",
    "print(filtered_occupations)"
   ]
  }
 ],
 "metadata": {
  "kernelspec": {
   "display_name": "Python 3 (ipykernel)",
   "language": "python",
   "name": "python3"
  },
  "language_info": {
   "codemirror_mode": {
    "name": "ipython",
    "version": 3
   },
   "file_extension": ".py",
   "mimetype": "text/x-python",
   "name": "python",
   "nbconvert_exporter": "python",
   "pygments_lexer": "ipython3",
   "version": "3.13.5"
  }
 },
 "nbformat": 4,
 "nbformat_minor": 5
}
