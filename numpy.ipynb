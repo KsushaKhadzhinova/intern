{
 "cells": [
  {
   "cell_type": "code",
   "execution_count": 38,
   "id": "beb46840-518e-4e98-937b-be951b727628",
   "metadata": {},
   "outputs": [],
   "source": [
    "import numpy as np\n",
    "import random"
   ]
  },
  {
   "cell_type": "markdown",
   "id": "585854ba-ab80-4330-96fe-a7c355d6f38d",
   "metadata": {},
   "source": [
    "Дан случайный массив, поменять знак у элементов, значения которых между 3 и 8"
   ]
  },
  {
   "cell_type": "code",
   "execution_count": 26,
   "id": "e66f6a20-c74f-4db3-92a3-4a5e99700e51",
   "metadata": {},
   "outputs": [
    {
     "name": "stdout",
     "output_type": "stream",
     "text": [
      "Original array [ 7 11  1 10 10  8  6  3  4  8]\n",
      "New array [-7 11  1 10 10 -8 -6 -3 -4 -8]\n"
     ]
    }
   ],
   "source": [
    "arr = np.random.randint(1, 20, size=10)\n",
    "print ('Original array', arr)\n",
    "mask = (arr >= 3) & (arr <= 8)\n",
    "arr[mask] = -arr[mask]\n",
    "print ('New array', arr)"
   ]
  },
  {
   "cell_type": "markdown",
   "id": "243750c7-f4b0-444f-823c-ceb134e12c40",
   "metadata": {},
   "source": [
    "Заменить максимальный элемент случайного массива на 0"
   ]
  },
  {
   "cell_type": "code",
   "execution_count": 27,
   "id": "ce354f00-fc56-46cb-93a2-4227307e51ee",
   "metadata": {},
   "outputs": [
    {
     "name": "stdout",
     "output_type": "stream",
     "text": [
      "Original array [ 3 16 16 19  4 13  8  4 12  5]\n",
      "New array [ 3 16 16  0  4 13  8  4 12  5]\n"
     ]
    }
   ],
   "source": [
    "arr = np.random.randint(1, 20, size=10)\n",
    "print ('Original array', arr)\n",
    "\n",
    "# первый вариант\n",
    "max_index = np.argmax(arr)\n",
    "arr[max_index] = 0\n",
    "\n",
    "# второй вариант\n",
    "#max_value = arr.max()\n",
    "#arr[arr == max_value] = 0\n",
    "\n",
    "print (\"New array\", arr)"
   ]
  },
  {
   "cell_type": "markdown",
   "id": "6b44ba49-d5d9-4ff8-a263-7fcda65239ca",
   "metadata": {},
   "source": [
    "Построить прямое произведение массивов (все комбинации с каждым элементом). На вход подается двумерный массив"
   ]
  },
  {
   "cell_type": "code",
   "execution_count": 28,
   "id": "51a92120-e8b5-40e7-92c9-95d2d052f54e",
   "metadata": {},
   "outputs": [
    {
     "name": "stdout",
     "output_type": "stream",
     "text": [
      "[[1 4 6]\n",
      " [1 4 7]\n",
      " [1 5 6]\n",
      " [1 5 7]\n",
      " [2 4 6]\n",
      " [2 4 7]\n",
      " [2 5 6]\n",
      " [2 5 7]\n",
      " [3 4 6]\n",
      " [3 4 7]\n",
      " [3 5 6]\n",
      " [3 5 7]]\n"
     ]
    }
   ],
   "source": [
    "def cartesian_product(arrays):\n",
    "    arrays = [np.asarray(a) for a in arrays]\n",
    "    shape = [len(a) for a in arrays]\n",
    "    ix = np.indices(shape, dtype=int)\n",
    "    ix = ix.reshape(len(arrays), -1).T\n",
    "    result = np.empty(ix.shape, dtype=arrays[0].dtype)\n",
    "    for n, a in enumerate(arrays):\n",
    "        result[:, n] = a[ix[:, n]]\n",
    "    return result\n",
    "\n",
    "arr = np.array([\n",
    "    [1, 2, 3],\n",
    "    [4, 5],\n",
    "    [6, 7]\n",
    "], dtype=object)\n",
    "arrays = list (arr)\n",
    "result = cartesian_product(arr)\n",
    "print(result)"
   ]
  },
  {
   "cell_type": "markdown",
   "id": "4497adb5-a926-42f6-b832-d7cedb2b663c",
   "metadata": {},
   "source": [
    "Даны 2 массива A (8x3) и B (2x2). Найти строки в A, которые содержат элементы из каждой строки в B, независимо от порядка элементов в B"
   ]
  },
  {
   "cell_type": "code",
   "execution_count": 33,
   "id": "ad0f52b8-cd3b-4db1-8c1d-21336bbe2066",
   "metadata": {},
   "outputs": [
    {
     "name": "stdout",
     "output_type": "stream",
     "text": [
      "Массив A:\n",
      "[[5 0 3]\n",
      " [3 7 9]\n",
      " [3 5 2]\n",
      " [4 7 6]\n",
      " [8 8 1]\n",
      " [6 7 7]\n",
      " [8 1 5]\n",
      " [9 8 9]]\n",
      "\n",
      "Массив B:\n",
      "[[4 3]\n",
      " [0 3]]\n",
      "\n",
      "Индексы строк в A, которые содержат элементы из каждой строки B:\n",
      "[]\n"
     ]
    }
   ],
   "source": [
    "np.random.seed(0) \n",
    "A = np.random.randint(0, 10, size=(8, 3))\n",
    "B = np.random.randint(0, 10, size=(2, 2))\n",
    "\n",
    "def find_rows_containing_each_B_row(A, B):\n",
    "    result_indices = []\n",
    "    for i, row_A in enumerate(A):\n",
    "        set_A = set(row_A)\n",
    "        contains_all = True\n",
    "        for row_B in B:\n",
    "            set_B = set(row_B)\n",
    "            if not set_B.issubset(set_A):\n",
    "                contains_all = False\n",
    "                break\n",
    "        if contains_all:\n",
    "            result_indices.append(i)\n",
    "    return result_indices\n",
    "\n",
    "indices = find_rows_containing_each_B_row(A, B)\n",
    "\n",
    "print(\"Массив A:\")\n",
    "print(A)\n",
    "print(\"\\nМассив B:\")\n",
    "print(B)\n",
    "print(\"\\nИндексы строк в A, которые содержат элементы из каждой строки B:\")\n",
    "print(indices)"
   ]
  },
  {
   "cell_type": "markdown",
   "id": "fd50db6e-d390-43e8-9f5b-59fef90aa702",
   "metadata": {},
   "source": [
    "Дана 10x3 матрица, найти строки из неравных значений (например строка [2,2,3] остается, строка [3,3,3] удаляется)"
   ]
  },
  {
   "cell_type": "code",
   "execution_count": 20,
   "id": "36538f2f-a39f-40d2-9636-3321f15292e0",
   "metadata": {},
   "outputs": [
    {
     "name": "stdout",
     "output_type": "stream",
     "text": [
      "[[0 1 0]\n",
      " [1 1 1]\n",
      " [3 3 4]\n",
      " [1 3 1]\n",
      " [2 1 2]\n",
      " [3 0 1]\n",
      " [3 2 4]\n",
      " [2 1 2]\n",
      " [2 1 1]\n",
      " [0 2 1]]\n",
      "[[0 1 0]\n",
      " [3 3 4]\n",
      " [1 3 1]\n",
      " [2 1 2]\n",
      " [3 0 1]\n",
      " [3 2 4]\n",
      " [2 1 2]\n",
      " [2 1 1]\n",
      " [0 2 1]]\n"
     ]
    }
   ],
   "source": [
    "Z = np.random.randint(0,5,(10,3))\n",
    "E = np.logical_and.reduce(Z[:,1:] == Z[:,:-1], axis=1)\n",
    "U = Z[~E]\n",
    "print(Z)\n",
    "print(U)"
   ]
  },
  {
   "cell_type": "markdown",
   "id": "0e418e4b-f199-4f3c-9b87-6583485f0f92",
   "metadata": {},
   "source": [
    "Дан двумерный массив. Удалить те строки, которые повторяются"
   ]
  },
  {
   "cell_type": "code",
   "execution_count": 32,
   "id": "c2b33289-5f41-46a3-bec7-15dab9818a8b",
   "metadata": {},
   "outputs": [
    {
     "name": "stdout",
     "output_type": "stream",
     "text": [
      "Исходный массив:\n",
      "[[8 0 8]\n",
      " [5 7 5]\n",
      " [7 1 9]\n",
      " [7 7 9]\n",
      " [3 0 6]\n",
      " [3 3 3]\n",
      " [4 4 3]\n",
      " [7 0 3]\n",
      " [6 0 1]\n",
      " [2 3 9]]\n",
      "Массив без повторяющихся строк:\n",
      "[[2 3 9]\n",
      " [3 0 6]\n",
      " [3 3 3]\n",
      " [4 4 3]\n",
      " [5 7 5]\n",
      " [6 0 1]\n",
      " [7 0 3]\n",
      " [7 1 9]\n",
      " [7 7 9]\n",
      " [8 0 8]]\n"
     ]
    }
   ],
   "source": [
    "arr = np.random.randint(0, 10, size=(10, 3))\n",
    "\n",
    "print(\"Исходный массив:\")\n",
    "print(arr)\n",
    "\n",
    "# Удаление повторяющихся строк\n",
    "unique_arr = np.unique(arr, axis=0)\n",
    "\n",
    "print(\"Массив без повторяющихся строк:\")\n",
    "print(unique_arr)"
   ]
  },
  {
   "cell_type": "markdown",
   "id": "7dab0914-022b-4a5c-af4a-c2a7aa106fc0",
   "metadata": {},
   "source": [
    "Для каждой из следующих задач (1-5) нужно привести 2 реализации – одна без использования numpy (cчитайте, что там, где на входе или выходе должны быть numpy array, будут просто списки), а вторая полностью векторизованная с использованием numpy (без использования питоновских циклов/map/list comprehension).\n",
    "\n",
    "**Замечание 1.** Можно считать, что все указанные объекты непустые (к примеру, в **задаче 1**на диагонали матрицы есть ненулевые элементы).\n",
    "\n",
    "**Замечание 2.** Для большинства задач решение занимает не больше 1-2 строк."
   ]
  },
  {
   "cell_type": "markdown",
   "id": "01b05fd7-5f7a-46b6-af44-2e022264a146",
   "metadata": {},
   "source": [
    "**Задача 1:** Подсчитать произведение ненулевых элементов на диагонали прямоугольной матрицы.\n",
    "Например, для X = np.array([[1, 0, 1], [2, 0, 2], [3, 0, 3], [4, 4, 4]]) ответ 3."
   ]
  },
  {
   "cell_type": "markdown",
   "id": "e3ff3231-43f6-45be-b716-c7e93004e1b2",
   "metadata": {},
   "source": [
    "на списках (без numpy)"
   ]
  },
  {
   "cell_type": "code",
   "execution_count": 37,
   "id": "187b6e55-7795-420d-a100-5ea25d63c530",
   "metadata": {},
   "outputs": [
    {
     "name": "stdout",
     "output_type": "stream",
     "text": [
      "Матрица:\n",
      "[3, 1, 4]\n",
      "[4, 4, 4]\n",
      "[4, 2, 2]\n",
      "[1, 3, 2]\n",
      "Произведение ненулевых элементов на диагонали: 24\n"
     ]
    }
   ],
   "source": [
    "m, n = 4, 3\n",
    "X = [[random.randint(0, 4) for _ in range(n)] for _ in range(m)]\n",
    "\n",
    "def product_nonzero_diagonal(matrix):\n",
    "    product = 1\n",
    "    for i in range(min(len(matrix), len(matrix[0]))):\n",
    "        if matrix[i][i] != 0:\n",
    "            product *= matrix[i][i]\n",
    "    return product\n",
    "\n",
    "print(\"Матрица:\")\n",
    "for row in X:\n",
    "    print(row)\n",
    "print(\"Произведение ненулевых элементов на диагонали:\", product_nonzero_diagonal(X))\n"
   ]
  },
  {
   "cell_type": "markdown",
   "id": "cc152112-21d7-41f4-af29-2b9f91405516",
   "metadata": {},
   "source": [
    "numpy"
   ]
  },
  {
   "cell_type": "code",
   "execution_count": 39,
   "id": "5a4d8e65-2879-47d4-87d7-2625da5d3f8b",
   "metadata": {},
   "outputs": [
    {
     "name": "stdout",
     "output_type": "stream",
     "text": [
      "Матрица:\n",
      " [[0 2 3]\n",
      " [0 1 3]\n",
      " [3 3 0]\n",
      " [1 1 1]]\n",
      "Произведение ненулевых элементов на диагонали: 1\n"
     ]
    }
   ],
   "source": [
    "m, n = 4, 3\n",
    "X = np.random.randint(0, 5, (m, n))\n",
    "\n",
    "def product_nonzero_diagonal_np(X):\n",
    "    diag = np.diagonal(X)\n",
    "    nonzero_diag = diag[diag != 0]\n",
    "    return np.prod(nonzero_diag)\n",
    "\n",
    "print(\"Матрица:\\n\", X)\n",
    "print(\"Произведение ненулевых элементов на диагонали:\", product_nonzero_diagonal_np(X))"
   ]
  },
  {
   "cell_type": "markdown",
   "id": "4bc469ac-ef12-48f1-b2ff-7f7abee9f1e5",
   "metadata": {},
   "source": [
    "**Задача 2:** Даны два вектора x и y. Проверить, задают ли они одно и то же мультимножество.\n",
    "Например, для x = np.array([1, 2, 2, 4]), y = np.array([4, 2, 1, 2]) ответ True."
   ]
  },
  {
   "cell_type": "markdown",
   "id": "6438c280-ee5a-46f3-9bff-721b2e5f5610",
   "metadata": {},
   "source": [
    "на списках (без numpy)"
   ]
  },
  {
   "cell_type": "code",
   "execution_count": 41,
   "id": "d108238e-2a2a-4c51-a0f1-5947f59c51e0",
   "metadata": {},
   "outputs": [
    {
     "name": "stdout",
     "output_type": "stream",
     "text": [
      "True\n"
     ]
    }
   ],
   "source": [
    "def check_multiset_equal(x, y):\n",
    "    return sorted(x) == sorted(y)\n",
    "\n",
    "x = [1, 2, 2, 4]\n",
    "y = [4, 2, 1, 2]\n",
    "print(check_multiset_equal(x, y))"
   ]
  },
  {
   "cell_type": "markdown",
   "id": "bf660e8e-5ec4-4fa4-9247-347f1d1cfee0",
   "metadata": {},
   "source": [
    "numpy"
   ]
  },
  {
   "cell_type": "code",
   "execution_count": 42,
   "id": "431247aa-61cc-4cde-84ed-a7a124f3469f",
   "metadata": {},
   "outputs": [
    {
     "name": "stdout",
     "output_type": "stream",
     "text": [
      "True\n"
     ]
    }
   ],
   "source": [
    "def check_multiset_equal_np(x, y):\n",
    "    return np.array_equal(np.sort(x), np.sort(y))\n",
    "\n",
    "x = np.array([1, 2, 2, 4])\n",
    "y = np.array([4, 2, 1, 2])\n",
    "print(check_multiset_equal_np(x, y))"
   ]
  },
  {
   "cell_type": "markdown",
   "id": "be1e408b-8834-45e6-ba7e-2186a9e64d3c",
   "metadata": {},
   "source": [
    "**Задача 3:** Найти максимальный элемент в векторе x среди элементов, перед которыми стоит ноль. Например, для x = np.array([6, 2, 0, 3, 0, 0, 5, 7, 0]) ответ 5."
   ]
  },
  {
   "cell_type": "markdown",
   "id": "aa2b773a-da25-4f19-8d92-2d72e44e3ff4",
   "metadata": {},
   "source": [
    "без numpy (со списками)"
   ]
  },
  {
   "cell_type": "code",
   "execution_count": 44,
   "id": "aaf4c4c7-84ad-4689-bb34-7994f7708a7d",
   "metadata": {},
   "outputs": [
    {
     "name": "stdout",
     "output_type": "stream",
     "text": [
      "5\n"
     ]
    }
   ],
   "source": [
    "def max_after_zero(x):\n",
    "    candidates = [x[i] for i in range(1, len(x)) if x[i-1] == 0]\n",
    "    return max(candidates) if candidates else None\n",
    "\n",
    "x = [6, 2, 0, 3, 0, 0, 5, 7, 0]\n",
    "print(max_after_zero(x))"
   ]
  },
  {
   "cell_type": "markdown",
   "id": "29ea5c21-6bfc-4bfb-ac81-d93b3237bc5b",
   "metadata": {},
   "source": [
    "numpy"
   ]
  },
  {
   "cell_type": "code",
   "execution_count": 45,
   "id": "bd47bcbc-9066-4a3f-82f7-ae4d36243967",
   "metadata": {},
   "outputs": [
    {
     "name": "stdout",
     "output_type": "stream",
     "text": [
      "5\n"
     ]
    }
   ],
   "source": [
    "def max_after_zero_np(x):\n",
    "    zeros_before = (x[:-1] == 0)\n",
    "    candidates = x[1:][zeros_before]\n",
    "    return np.max(candidates) if candidates.size > 0 else None\n",
    "\n",
    "x = np.array([6, 2, 0, 3, 0, 0, 5, 7, 0])\n",
    "print(max_after_zero_np(x))"
   ]
  },
  {
   "cell_type": "markdown",
   "id": "5258563e-e758-45bd-9ec3-067d66e4e266",
   "metadata": {},
   "source": [
    "**Задача 4:** Реализовать кодирование длин серий (Run-length encoding). Для некоторого вектора x необходимо вернуть кортеж из двух векторов одинаковой длины. Первый содержит числа, а второй - сколько раз их нужно повторить.\n",
    "Например, для x = np.array([2, 2, 2, 3, 3, 3, 5]) ответ (np.array([2, 3, 5]), np.array([3, 3, 1]))."
   ]
  },
  {
   "cell_type": "markdown",
   "id": "525404e4-b618-4f62-8590-d3a71e0b22fb",
   "metadata": {},
   "source": [
    "без numpy (со списками)"
   ]
  },
  {
   "cell_type": "code",
   "execution_count": 46,
   "id": "86d3089f-938b-4dee-9b29-b9d0e0aa5c11",
   "metadata": {},
   "outputs": [
    {
     "name": "stdout",
     "output_type": "stream",
     "text": [
      "[2, 3, 5]\n",
      "[3, 3, 1]\n"
     ]
    }
   ],
   "source": [
    "def run_length_encoding(x):\n",
    "    if not x:\n",
    "        return [], []\n",
    "    values = [x[0]]\n",
    "    counts = [1]\n",
    "    for i in range(1, len(x)):\n",
    "        if x[i] == x[i-1]:\n",
    "            counts[-1] += 1\n",
    "        else:\n",
    "            values.append(x[i])\n",
    "            counts.append(1)\n",
    "    return values, counts\n",
    "\n",
    "x = [2, 2, 2, 3, 3, 3, 5]\n",
    "values, counts = run_length_encoding(x)\n",
    "print(values)  # [2, 3, 5]\n",
    "print(counts)  # [3, 3, 1]"
   ]
  },
  {
   "cell_type": "markdown",
   "id": "835ce0ce-4317-4a0b-99f4-bcf1bec027c3",
   "metadata": {},
   "source": [
    "numpy"
   ]
  },
  {
   "cell_type": "code",
   "execution_count": 47,
   "id": "ac7b339f-4dc4-497f-8c77-aaa8f6f3e47e",
   "metadata": {},
   "outputs": [
    {
     "name": "stdout",
     "output_type": "stream",
     "text": [
      "[2 3 5]\n",
      "[3 3 1]\n"
     ]
    }
   ],
   "source": [
    "def run_length_encoding_np(x):\n",
    "    x = np.asarray(x)\n",
    "    if x.size == 0:\n",
    "        return np.array([]), np.array([])\n",
    "    # Находим индексы смены значения\n",
    "    change = np.diff(x) != 0\n",
    "    indices = np.append(np.where(change)[0], x.size - 1)\n",
    "    counts = np.diff(np.append(-1, indices))\n",
    "    values = x[indices]\n",
    "    return values, counts\n",
    "\n",
    "x = np.array([2, 2, 2, 3, 3, 3, 5])\n",
    "values, counts = run_length_encoding_np(x)\n",
    "print(values)  # [2 3 5]\n",
    "print(counts)  # [3 3 1]"
   ]
  },
  {
   "cell_type": "markdown",
   "id": "9d7ab2e5-4f84-4d45-b313-e14c11be9edd",
   "metadata": {},
   "source": [
    "**Задача 5:** Даны две выборки объектов - X и Y. Вычислить матрицу евклидовых расстояний между объектами. Сравните с функцией scipy.spatial.distance.cdist по скорости работы."
   ]
  },
  {
   "cell_type": "markdown",
   "id": "090f4f7d-8d7c-4b85-9e74-7ec820cee44b",
   "metadata": {},
   "source": [
    "без numpy (со списками)"
   ]
  },
  {
   "cell_type": "code",
   "execution_count": 51,
   "id": "71343482-0225-4502-819b-878d9ce42e3d",
   "metadata": {},
   "outputs": [
    {
     "name": "stdout",
     "output_type": "stream",
     "text": [
      "[2, 3, 5]\n",
      "[3, 3, 1]\n"
     ]
    }
   ],
   "source": [
    "def run_length_encoding(x):\n",
    "    if not x:\n",
    "        return [], []\n",
    "    values, counts = [x[0]], [1]\n",
    "    for i in range(1, len(x)):\n",
    "        if x[i] == x[i-1]:\n",
    "            counts[-1] += 1\n",
    "        else:\n",
    "            values.append(x[i])\n",
    "            counts.append(1)\n",
    "    return values, counts\n",
    "\n",
    "x = [2, 2, 2, 3, 3, 3, 5]\n",
    "v, c = run_length_encoding(x)\n",
    "print(v)\n",
    "print(c)"
   ]
  },
  {
   "cell_type": "markdown",
   "id": "d3bf5f4a-0a1e-4edc-82bc-d309a3e26fce",
   "metadata": {},
   "source": [
    "numpy"
   ]
  },
  {
   "cell_type": "code",
   "execution_count": 52,
   "id": "f53ea33e-0c04-42be-b5d4-aceca5cd2ebb",
   "metadata": {},
   "outputs": [
    {
     "name": "stdout",
     "output_type": "stream",
     "text": [
      "[2 3 5]\n",
      "[3 3 1]\n"
     ]
    }
   ],
   "source": [
    "import numpy as np\n",
    "\n",
    "def run_length_encoding_np(x):\n",
    "    x = np.asarray(x)\n",
    "    if x.size == 0:\n",
    "        return np.array([]), np.array([])\n",
    "    change = np.diff(x) != 0\n",
    "    indices = np.append(np.where(change)[0], x.size - 1)\n",
    "    counts = np.diff(np.append(-1, indices))\n",
    "    values = x[indices]\n",
    "    return values, counts\n",
    "\n",
    "x = np.array([2, 2, 2, 3, 3, 3, 5])\n",
    "v, c = run_length_encoding_np(x)\n",
    "print(v)\n",
    "print(c)"
   ]
  },
  {
   "cell_type": "markdown",
   "id": "0de72632-078c-4652-a859-2ef64e1220e9",
   "metadata": {},
   "source": [
    "## Задача 6: CrunchieMunchies*\n",
    "Вы работаете в отделе маркетинга пищевой компании MyCrunch, которая разрабатывает новый вид вкусных, полезных злаков под названием **CrunchieMunchies**\n",
    "\n",
    "Вы хотите продемонстрировать потребителям, насколько полезны ваши хлопья по сравнению с другими ведущими брендами, поэтому вы собрали данные о питании нескольких разных конкурентов.\n",
    "\n",
    "Ваша задача - использовать вычисления Numpy для анализа этих данных и доказать, что ваши **СrunchieMunchies** - самый здоровый выбор для потребителей."
   ]
  },
  {
   "cell_type": "markdown",
   "id": "cbd2d419-8e6e-443b-8a02-26231d1e8ca1",
   "metadata": {},
   "source": [
    "1. Просмотрите файл cereal.csv. Этот файл содержит количества калорий для различных марок хлопьев. Загрузите данные из файла и сохраните их как calorie_stats."
   ]
  },
  {
   "cell_type": "code",
   "execution_count": 60,
   "id": "ff2b97e6-15f4-4f4c-9ce6-25d1151336b2",
   "metadata": {},
   "outputs": [
    {
     "data": {
      "text/plain": [
       "array([ 70., 120.,  70.,  50., 110., 110., 110., 130.,  90.,  90., 120.,\n",
       "       110., 120., 110., 110., 110., 100., 110., 110., 110., 100., 110.,\n",
       "       100., 100., 110., 110., 100., 120., 120., 110., 100., 110., 100.,\n",
       "       110., 120., 120., 110., 110., 110., 140., 110., 100., 110., 100.,\n",
       "       150., 150., 160., 100., 120., 140.,  90., 130., 120., 100.,  50.,\n",
       "        50., 100., 100., 120., 100.,  90., 110., 110.,  80.,  90.,  90.,\n",
       "       110., 110.,  90., 110., 140., 100., 110., 110., 100., 100., 110.])"
      ]
     },
     "execution_count": 60,
     "metadata": {},
     "output_type": "execute_result"
    }
   ],
   "source": [
    "calorie_stats = np.loadtxt(\"./data/cereal.csv\", delimiter=\",\")\n",
    "calorie_stats"
   ]
  },
  {
   "cell_type": "markdown",
   "id": "e7e66339-94fd-4d95-9e9d-8cbd0158902d",
   "metadata": {},
   "source": [
    "2. В одной порции CrunchieMunchies содержится 60 калорий. Насколько выше среднее количество калорий у ваших конкурентов?\n",
    "\n",
    "Сохраните ответ в переменной average_calories и распечатайте переменную в терминале"
   ]
  },
  {
   "cell_type": "code",
   "execution_count": 61,
   "id": "c32a49c8-a7cd-4bb9-b9a2-0d1aec370d93",
   "metadata": {},
   "outputs": [
    {
     "name": "stdout",
     "output_type": "stream",
     "text": [
      "Average calories of competitors: 106.88311688311688\n"
     ]
    }
   ],
   "source": [
    "average_calories = np.mean(calorie_stats)\n",
    "print(\"Average calories of competitors:\", average_calories)"
   ]
  },
  {
   "cell_type": "markdown",
   "id": "6f423791-d281-4450-a9df-a2c41bf2e1b1",
   "metadata": {},
   "source": [
    "3. Корректно ли среднее количество калорий отражает распределение набора данных? Давайте отсортируем данные и посмотрим.\n",
    "\n",
    "Отсортируйте данные и сохраните результат в переменной calorie_stats_sorted. Распечатайте отсортированную информацию"
   ]
  },
  {
   "cell_type": "code",
   "execution_count": 62,
   "id": "208cf2f4-f2f5-46cd-af7f-a4598373c95f",
   "metadata": {},
   "outputs": [
    {
     "name": "stdout",
     "output_type": "stream",
     "text": [
      "Sorted calorie stats: [ 50.  50.  50.  70.  70.  80.  90.  90.  90.  90.  90.  90.  90. 100.\n",
      " 100. 100. 100. 100. 100. 100. 100. 100. 100. 100. 100. 100. 100. 100.\n",
      " 100. 100. 110. 110. 110. 110. 110. 110. 110. 110. 110. 110. 110. 110.\n",
      " 110. 110. 110. 110. 110. 110. 110. 110. 110. 110. 110. 110. 110. 110.\n",
      " 110. 110. 110. 120. 120. 120. 120. 120. 120. 120. 120. 120. 120. 130.\n",
      " 130. 140. 140. 140. 150. 150. 160.]\n"
     ]
    }
   ],
   "source": [
    "calorie_stats_sorted = np.sort(calorie_stats)\n",
    "print(\"Sorted calorie stats:\", calorie_stats_sorted)"
   ]
  },
  {
   "cell_type": "markdown",
   "id": "cb012225-2f41-406c-aa04-e5e7421d0749",
   "metadata": {},
   "source": [
    "4. Похоже, что большинство значений выше среднего. Давайте посмотрим, является ли медиана наиболее корректным показателем набора данных.\n",
    "\n",
    "Вычислите медиану набора данных и сохраните свой ответ в median_calories. Выведите медиану, чтобы вы могли видеть, как она сравнивается со средним значением."
   ]
  },
  {
   "cell_type": "code",
   "execution_count": 63,
   "id": "a978b40c-21d2-427a-b540-a190f214830a",
   "metadata": {},
   "outputs": [
    {
     "name": "stdout",
     "output_type": "stream",
     "text": [
      "Median calories: 110.0\n"
     ]
    }
   ],
   "source": [
    "median_calories = np.median(calorie_stats)\n",
    "print(\"Median calories:\", median_calories)"
   ]
  },
  {
   "cell_type": "markdown",
   "id": "5b4bda72-dc3c-43b2-bd83-3c05e2f3d422",
   "metadata": {},
   "source": [
    "5. В то время как медиана показывает, что по крайней мере половина наших значений составляет более 100 калорий, было бы более впечатляюще показать, что значительная часть конкурентов имеет более высокое количество калорий, чем CrunchieMunchies.\n",
    "\n",
    "Рассчитайте различные процентили и распечатайте их, пока не найдете наименьший процентиль, превышающий 60 калорий. Сохраните это значение в переменной nth_percentile."
   ]
  },
  {
   "cell_type": "code",
   "execution_count": 64,
   "id": "8a9f037c-bbf6-4520-9000-d539d17914c8",
   "metadata": {},
   "outputs": [
    {
     "name": "stdout",
     "output_type": "stream",
     "text": [
      "Lowest percentile above 60 calories: 70.0\n"
     ]
    }
   ],
   "source": [
    "percentiles = np.percentile(calorie_stats, np.arange(0, 101))\n",
    "nth_percentile = None\n",
    "for p in percentiles:\n",
    "    if p > 60:\n",
    "        nth_percentile = p\n",
    "        break\n",
    "print(\"Lowest percentile above 60 calories:\", nth_percentile)"
   ]
  },
  {
   "cell_type": "markdown",
   "id": "be8b5a62-ba91-453d-afb9-fa74aca503b3",
   "metadata": {},
   "source": [
    "6. Хотя процентиль показывает нам, что у большинства конкурентов количество калорий намного выше, это неудобная концепция для использования в маркетинговых материалах.\n",
    "\n",
    "Вместо этого давайте подсчитаем процент хлопьев, в которых содержится более 60 калорий на порцию. Сохраните свой ответ в переменной more_calories и распечатайте его"
   ]
  },
  {
   "cell_type": "code",
   "execution_count": 65,
   "id": "985035e1-1aef-44fd-8fea-3e8f6b0fa395",
   "metadata": {},
   "outputs": [
    {
     "name": "stdout",
     "output_type": "stream",
     "text": [
      "Percentage of cereals with calories > 60: 96.1038961038961\n"
     ]
    }
   ],
   "source": [
    "more_calories = np.sum(calorie_stats > 60) / calorie_stats.size * 100\n",
    "print(\"Percentage of cereals with calories > 60:\", more_calories)"
   ]
  },
  {
   "cell_type": "markdown",
   "id": "b936e38f-2ccc-4564-803f-6b8727b00465",
   "metadata": {},
   "source": [
    "7. Это действительно высокий процент. Это будет очень полезно, когда мы будем продвигать CrunchieMunchies. Но один вопрос заключается в том, насколько велики различия в наборе данных? Можем ли мы сделать обобщение, что в большинстве злаков содержится около 100 калорий или разброс еще больше?\n",
    "\n",
    "Рассчитайте величину отклонения, найдя стандартное отклонение, Сохраните свой ответ в calorie_std и распечатайте на терминале. Как мы можем включить эту ценность в наш анализ?"
   ]
  },
  {
   "cell_type": "code",
   "execution_count": 66,
   "id": "d39563b4-6399-4be3-86eb-506b40026893",
   "metadata": {},
   "outputs": [
    {
     "name": "stdout",
     "output_type": "stream",
     "text": [
      "Standard deviation of calories: 19.35718533390827\n"
     ]
    }
   ],
   "source": [
    "calorie_std = np.std(calorie_stats)\n",
    "print(\"Standard deviation of calories:\", calorie_std)"
   ]
  },
  {
   "cell_type": "markdown",
   "id": "5d8b1418-fb52-496c-a15d-9192f88bab7b",
   "metadata": {},
   "source": [
    "8. Напишите короткий абзац, в котором кратко изложите свои выводы и то, как, по вашему мнению, эти данные могут быть использованы в интересах Mycrunch при маркетинге CrunchieMunchies."
   ]
  },
  {
   "cell_type": "markdown",
   "id": "7fd68df7-c6ca-47da-9e5b-11e1bfc25616",
   "metadata": {},
   "source": [
    "1. **Среднее количество калорий** \n",
    "У конкурентов - 106.88 ккал на порцию\n",
    "У CrunchieMunchies содержит всего 60 ккал (ниже среднего показателя)\n",
    "\n",
    "2. **Медиана и распределение**\n",
    "У конкурентов — 110.00 (половина брендов имеют калорийность выше 100)\n",
    "Большинство конкурентов менее диетичны по сравнению с CrunchieMunchies\n",
    "\n",
    "3. **Процентильный анализ**\n",
    "У CrunchieMunchies минимальный процентиль превышает 60 калорий и равен 70.00 (у продукта низкая калорийность)\n",
    "96.10% хлопьев содержат калорийность выше 60 (большинство конкурентов существенно калорийнее)\n",
    "\n",
    "4. **Разброс данных**\n",
    "Стандартное отклонение калорий 19.36 => разброс среди конкурентов c общим трендом в сторону более высокой калорийности \n",
    "\n",
    "**Вывод**\n",
    "\n",
    "CrunchieMunchies — самый низкокалорийный и здоровый выбор среди рассмотренных вариантов\n",
    "Это конкурентное преимущество стоит активно использовать в маркетинговых кампаниях, подчеркивая пользу и диетические преимущества CrunchieMunchies для здоровья потребителей"
   ]
  }
 ],
 "metadata": {
  "kernelspec": {
   "display_name": "Python 3 (ipykernel)",
   "language": "python",
   "name": "python3"
  },
  "language_info": {
   "codemirror_mode": {
    "name": "ipython",
    "version": 3
   },
   "file_extension": ".py",
   "mimetype": "text/x-python",
   "name": "python",
   "nbconvert_exporter": "python",
   "pygments_lexer": "ipython3",
   "version": "3.13.5"
  }
 },
 "nbformat": 4,
 "nbformat_minor": 5
}
